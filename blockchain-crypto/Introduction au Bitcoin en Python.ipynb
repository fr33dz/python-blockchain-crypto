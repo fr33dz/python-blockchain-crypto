{
 "cells": [
  {
   "cell_type": "markdown",
   "metadata": {},
   "source": [
    "## Introduction au blockchain Bitcoin en Python\n",
    "\n",
    "### 1. bitcoinlib "
   ]
  },
  {
   "cell_type": "code",
   "execution_count": 1,
   "metadata": {},
   "outputs": [
    {
     "name": "stdout",
     "output_type": "stream",
     "text": [
      "Requirement already satisfied: bitcoinlib in c:\\users\\fr33dz\\documents\\wpy64-3771\\python-3.7.7.amd64\\lib\\site-packages (0.5.3)\n",
      "Requirement already satisfied: scrypt==0.8.17 in c:\\users\\fr33dz\\documents\\wpy64-3771\\python-3.7.7.amd64\\lib\\site-packages (from bitcoinlib) (0.8.17)\n",
      "Requirement already satisfied: pyaes==1.6.1 in c:\\users\\fr33dz\\documents\\wpy64-3771\\python-3.7.7.amd64\\lib\\site-packages (from bitcoinlib) (1.6.1)\n",
      "Requirement already satisfied: numpy==1.19.5 in c:\\users\\fr33dz\\documents\\wpy64-3771\\python-3.7.7.amd64\\lib\\site-packages (from bitcoinlib) (1.19.5)\n",
      "Requirement already satisfied: ecdsa==0.16 in c:\\users\\fr33dz\\documents\\wpy64-3771\\python-3.7.7.amd64\\lib\\site-packages (from bitcoinlib) (0.16.0)\n",
      "Requirement already satisfied: SQLAlchemy==1.3.22 in c:\\users\\fr33dz\\documents\\wpy64-3771\\python-3.7.7.amd64\\lib\\site-packages (from bitcoinlib) (1.3.22)\n",
      "Requirement already satisfied: requests==2.25.1 in c:\\users\\fr33dz\\documents\\wpy64-3771\\python-3.7.7.amd64\\lib\\site-packages (from bitcoinlib) (2.25.1)\n",
      "Requirement already satisfied: six>=1.9.0 in c:\\users\\fr33dz\\documents\\wpy64-3771\\python-3.7.7.amd64\\lib\\site-packages (from ecdsa==0.16->bitcoinlib) (1.14.0)\n",
      "Requirement already satisfied: chardet<5,>=3.0.2 in c:\\users\\fr33dz\\documents\\wpy64-3771\\python-3.7.7.amd64\\lib\\site-packages (from requests==2.25.1->bitcoinlib) (3.0.4)\n",
      "Requirement already satisfied: idna<3,>=2.5 in c:\\users\\fr33dz\\documents\\wpy64-3771\\python-3.7.7.amd64\\lib\\site-packages (from requests==2.25.1->bitcoinlib) (2.9)\n",
      "Requirement already satisfied: urllib3<1.27,>=1.21.1 in c:\\users\\fr33dz\\documents\\wpy64-3771\\python-3.7.7.amd64\\lib\\site-packages (from requests==2.25.1->bitcoinlib) (1.25.9)\n",
      "Requirement already satisfied: certifi>=2017.4.17 in c:\\users\\fr33dz\\documents\\wpy64-3771\\python-3.7.7.amd64\\lib\\site-packages (from requests==2.25.1->bitcoinlib) (2020.4.5.1)\n"
     ]
    }
   ],
   "source": [
    "!pip install bitcoinlib"
   ]
  },
  {
   "cell_type": "code",
   "execution_count": 2,
   "metadata": {},
   "outputs": [
    {
     "data": {
      "text/plain": [
       "'17Jj92BmHEc61M8jUTwibgqjXAuyPnpMkJ'"
      ]
     },
     "execution_count": 2,
     "metadata": {},
     "output_type": "execute_result"
    }
   ],
   "source": [
    "# https://github.com/petertodd/python-bitcoinlib\n",
    "\n",
    "from bitcoinlib.wallets import Wallet\n",
    "\n",
    "# Creer une nouveau portefeuille Bitcoin en Python\n",
    "w = Wallet.create('Wallet1')\n",
    "key1 = w.get_key()\n",
    "key1.address\n"
   ]
  },
  {
   "cell_type": "code",
   "execution_count": 3,
   "metadata": {},
   "outputs": [],
   "source": [
    "w.scan()"
   ]
  },
  {
   "cell_type": "code",
   "execution_count": null,
   "metadata": {},
   "outputs": [],
   "source": [
    "# afficher des infos de ton portefeuille bitcoin en python\n",
    "\n",
    "w.info()  # Shows wallet information, keys, transactions and UTXO's"
   ]
  },
  {
   "cell_type": "code",
   "execution_count": null,
   "metadata": {},
   "outputs": [],
   "source": [
    "# Transferer des bitcoin en python\n",
    "\n",
    "t = w.send_to('1PWXhWvUH3bcDWn6Fdq3xhMRPfxRXTjAi1', '0.001 BTC')"
   ]
  },
  {
   "cell_type": "code",
   "execution_count": null,
   "metadata": {},
   "outputs": [],
   "source": [
    "# Afficher les infos de la transaction\n",
    "t.info  # Shows transaction information and send results"
   ]
  },
  {
   "cell_type": "code",
   "execution_count": null,
   "metadata": {},
   "outputs": [],
   "source": []
  }
 ],
 "metadata": {
  "kernelspec": {
   "display_name": "Python 3",
   "language": "python",
   "name": "python3"
  },
  "language_info": {
   "codemirror_mode": {
    "name": "ipython",
    "version": 3
   },
   "file_extension": ".py",
   "mimetype": "text/x-python",
   "name": "python",
   "nbconvert_exporter": "python",
   "pygments_lexer": "ipython3",
   "version": "3.7.7"
  }
 },
 "nbformat": 4,
 "nbformat_minor": 4
}
