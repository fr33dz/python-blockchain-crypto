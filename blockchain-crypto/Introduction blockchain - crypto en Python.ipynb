{
 "cells": [
  {
   "cell_type": "markdown",
   "metadata": {},
   "source": [
    "## Introduction au blockchain Euthereum en Python\n",
    "\n",
    "### 1. Web3 \n",
    "### 2. Infura\n",
    "### 3. Zapper\n",
    "### 4. ABI"
   ]
  },
  {
   "cell_type": "code",
   "execution_count": 4,
   "metadata": {},
   "outputs": [
    {
     "name": "stdout",
     "output_type": "stream",
     "text": [
      "Collecting web3\n",
      "  Using cached web3-5.20.0-py3-none-any.whl (480 kB)\n",
      "Collecting eth-account<0.6.0,>=0.5.3\n",
      "  Using cached eth_account-0.5.4-py3-none-any.whl (94 kB)\n",
      "Requirement already satisfied: jsonschema<4.0.0,>=3.2.0 in c:\\users\\fr33dz\\documents\\wpy64-3771\\python-3.7.7.amd64\\lib\\site-packages (from web3) (3.2.0)\n",
      "Requirement already satisfied: requests<3.0.0,>=2.16.0 in c:\\users\\fr33dz\\documents\\wpy64-3771\\python-3.7.7.amd64\\lib\\site-packages (from web3) (2.25.1)\n",
      "Requirement already satisfied: eth-abi<3.0.0,>=2.0.0b6 in c:\\users\\fr33dz\\documents\\wpy64-3771\\python-3.7.7.amd64\\lib\\site-packages (from web3) (2.1.1)\n",
      "Requirement already satisfied: eth-utils<2.0.0,>=1.9.5 in c:\\users\\fr33dz\\documents\\wpy64-3771\\python-3.7.7.amd64\\lib\\site-packages (from web3) (1.10.0)\n",
      "Requirement already satisfied: protobuf<4,>=3.10.0 in c:\\users\\fr33dz\\documents\\wpy64-3771\\python-3.7.7.amd64\\lib\\site-packages (from web3) (3.12.1)\n",
      "Requirement already satisfied: websockets<9.0.0,>=8.1.0 in c:\\users\\fr33dz\\documents\\wpy64-3771\\python-3.7.7.amd64\\lib\\site-packages (from web3) (8.1)\n",
      "Collecting ipfshttpclient==0.7.0\n",
      "  Using cached ipfshttpclient-0.7.0-py3-none-any.whl (82 kB)\n",
      "Requirement already satisfied: pywin32>=223 in c:\\users\\fr33dz\\documents\\wpy64-3771\\python-3.7.7.amd64\\lib\\site-packages (from web3) (227)\n",
      "Requirement already satisfied: eth-hash[pycryptodome]<1.0.0,>=0.2.0 in c:\\users\\fr33dz\\documents\\wpy64-3771\\python-3.7.7.amd64\\lib\\site-packages (from web3) (0.3.1)\n",
      "Collecting lru-dict<2.0.0,>=1.1.6\n",
      "  Using cached lru-dict-1.1.7.tar.gz (10 kB)\n",
      "Requirement already satisfied: eth-typing<3.0.0,>=2.0.0 in c:\\users\\fr33dz\\documents\\wpy64-3771\\python-3.7.7.amd64\\lib\\site-packages (from web3) (2.2.2)\n",
      "Requirement already satisfied: hexbytes<1.0.0,>=0.1.0 in c:\\users\\fr33dz\\documents\\wpy64-3771\\python-3.7.7.amd64\\lib\\site-packages (from web3) (0.2.1)\n",
      "Requirement already satisfied: typing-extensions<4,>=3.7.4.1 in c:\\users\\fr33dz\\documents\\wpy64-3771\\python-3.7.7.amd64\\lib\\site-packages (from web3) (3.7.4.2)\n",
      "Collecting aiohttp<4,>=3.7.4.post0\n",
      "  Using cached aiohttp-3.7.4.post0-cp37-cp37m-win_amd64.whl (630 kB)\n",
      "Requirement already satisfied: multiaddr>=0.0.7 in c:\\users\\fr33dz\\documents\\wpy64-3771\\python-3.7.7.amd64\\lib\\site-packages (from ipfshttpclient==0.7.0->web3) (0.0.9)\n",
      "Requirement already satisfied: chardet<5.0,>=2.0 in c:\\users\\fr33dz\\documents\\wpy64-3771\\python-3.7.7.amd64\\lib\\site-packages (from aiohttp<4,>=3.7.4.post0->web3) (3.0.4)\n",
      "Requirement already satisfied: yarl<2.0,>=1.0 in c:\\users\\fr33dz\\documents\\wpy64-3771\\python-3.7.7.amd64\\lib\\site-packages (from aiohttp<4,>=3.7.4.post0->web3) (1.6.3)\n",
      "Requirement already satisfied: attrs>=17.3.0 in c:\\users\\fr33dz\\documents\\wpy64-3771\\python-3.7.7.amd64\\lib\\site-packages (from aiohttp<4,>=3.7.4.post0->web3) (19.3.0)\n",
      "Collecting async-timeout<4.0,>=3.0\n",
      "  Using cached async_timeout-3.0.1-py3-none-any.whl (8.2 kB)\n",
      "Requirement already satisfied: multidict<7.0,>=4.5 in c:\\users\\fr33dz\\documents\\wpy64-3771\\python-3.7.7.amd64\\lib\\site-packages (from aiohttp<4,>=3.7.4.post0->web3) (5.1.0)\n",
      "Requirement already satisfied: parsimonious<0.9.0,>=0.8.0 in c:\\users\\fr33dz\\documents\\wpy64-3771\\python-3.7.7.amd64\\lib\\site-packages (from eth-abi<3.0.0,>=2.0.0b6->web3) (0.8.1)\n",
      "Requirement already satisfied: eth-rlp<2,>=0.1.2 in c:\\users\\fr33dz\\documents\\wpy64-3771\\python-3.7.7.amd64\\lib\\site-packages (from eth-account<0.6.0,>=0.5.3->web3) (0.2.1)\n",
      "Requirement already satisfied: eth-keys!=0.3.2,<0.4.0,>=0.2.1 in c:\\users\\fr33dz\\documents\\wpy64-3771\\python-3.7.7.amd64\\lib\\site-packages (from eth-account<0.6.0,>=0.5.3->web3) (0.3.3)\n",
      "Requirement already satisfied: eth-keyfile<0.6.0,>=0.5.0 in c:\\users\\fr33dz\\documents\\wpy64-3771\\python-3.7.7.amd64\\lib\\site-packages (from eth-account<0.6.0,>=0.5.3->web3) (0.5.1)\n",
      "Requirement already satisfied: rlp<3,>=1.0.0 in c:\\users\\fr33dz\\documents\\wpy64-3771\\python-3.7.7.amd64\\lib\\site-packages (from eth-account<0.6.0,>=0.5.3->web3) (2.0.1)\n",
      "Collecting bitarray<1.3.0,>=1.2.1\n",
      "  Using cached bitarray-1.2.2.tar.gz (48 kB)\n",
      "Requirement already satisfied: pycryptodome<4,>=3.6.6 in c:\\users\\fr33dz\\documents\\wpy64-3771\\python-3.7.7.amd64\\lib\\site-packages (from eth-hash[pycryptodome]<1.0.0,>=0.2.0->web3) (3.10.1)\n",
      "Requirement already satisfied: cytoolz<1.0.0,>=0.9.0 in c:\\users\\fr33dz\\documents\\wpy64-3771\\python-3.7.7.amd64\\lib\\site-packages (from eth-keyfile<0.6.0,>=0.5.0->eth-account<0.6.0,>=0.5.3->web3) (0.10.1)\n",
      "Requirement already satisfied: toolz>=0.8.0 in c:\\users\\fr33dz\\documents\\wpy64-3771\\python-3.7.7.amd64\\lib\\site-packages (from cytoolz<1.0.0,>=0.9.0->eth-keyfile<0.6.0,>=0.5.0->eth-account<0.6.0,>=0.5.3->web3) (0.10.0)\n",
      "Requirement already satisfied: pyrsistent>=0.14.0 in c:\\users\\fr33dz\\documents\\wpy64-3771\\python-3.7.7.amd64\\lib\\site-packages (from jsonschema<4.0.0,>=3.2.0->web3) (0.16.0)\n",
      "Requirement already satisfied: six>=1.11.0 in c:\\users\\fr33dz\\documents\\wpy64-3771\\python-3.7.7.amd64\\lib\\site-packages (from jsonschema<4.0.0,>=3.2.0->web3) (1.14.0)\n",
      "Requirement already satisfied: setuptools in c:\\users\\fr33dz\\documents\\wpy64-3771\\python-3.7.7.amd64\\lib\\site-packages (from jsonschema<4.0.0,>=3.2.0->web3) (46.4.0)\n",
      "Requirement already satisfied: importlib-metadata in c:\\users\\fr33dz\\documents\\wpy64-3771\\python-3.7.7.amd64\\lib\\site-packages (from jsonschema<4.0.0,>=3.2.0->web3) (1.6.0)\n",
      "Requirement already satisfied: varint in c:\\users\\fr33dz\\documents\\wpy64-3771\\python-3.7.7.amd64\\lib\\site-packages (from multiaddr>=0.0.7->ipfshttpclient==0.7.0->web3) (1.0.2)\n",
      "Requirement already satisfied: netaddr in c:\\users\\fr33dz\\documents\\wpy64-3771\\python-3.7.7.amd64\\lib\\site-packages (from multiaddr>=0.0.7->ipfshttpclient==0.7.0->web3) (0.8.0)\n",
      "Requirement already satisfied: base58 in c:\\users\\fr33dz\\documents\\wpy64-3771\\python-3.7.7.amd64\\lib\\site-packages (from multiaddr>=0.0.7->ipfshttpclient==0.7.0->web3) (2.1.0)\n",
      "Requirement already satisfied: idna<3,>=2.5 in c:\\users\\fr33dz\\documents\\wpy64-3771\\python-3.7.7.amd64\\lib\\site-packages (from requests<3.0.0,>=2.16.0->web3) (2.9)\n",
      "Requirement already satisfied: certifi>=2017.4.17 in c:\\users\\fr33dz\\documents\\wpy64-3771\\python-3.7.7.amd64\\lib\\site-packages (from requests<3.0.0,>=2.16.0->web3) (2020.4.5.1)"
     ]
    },
    {
     "name": "stderr",
     "output_type": "stream",
     "text": [
      "  ERROR: Command errored out with exit status 1:\n",
      "   command: 'C:\\Users\\fr33dz\\Documents\\WPy64-3771\\python-3.7.7.amd64\\python.exe' -u -c 'import io, os, sys, setuptools, tokenize; sys.argv[0] = '\"'\"'C:\\\\Users\\\\fr33dz\\\\AppData\\\\Local\\\\Temp\\\\pip-install-fbv6u1h9\\\\bitarray_0e61c73de7b8438eaa64de347671718f\\\\setup.py'\"'\"'; __file__='\"'\"'C:\\\\Users\\\\fr33dz\\\\AppData\\\\Local\\\\Temp\\\\pip-install-fbv6u1h9\\\\bitarray_0e61c73de7b8438eaa64de347671718f\\\\setup.py'\"'\"';f = getattr(tokenize, '\"'\"'open'\"'\"', open)(__file__) if os.path.exists(__file__) else io.StringIO('\"'\"'from setuptools import setup; setup()'\"'\"');code = f.read().replace('\"'\"'\\r\\n'\"'\"', '\"'\"'\\n'\"'\"');f.close();exec(compile(code, __file__, '\"'\"'exec'\"'\"'))' bdist_wheel -d 'C:\\Users\\fr33dz\\AppData\\Local\\Temp\\pip-wheel-iq3b0cq0'\n",
      "       cwd: C:\\Users\\fr33dz\\AppData\\Local\\Temp\\pip-install-fbv6u1h9\\bitarray_0e61c73de7b8438eaa64de347671718f\\\n",
      "  Complete output (13 lines):\n",
      "  running bdist_wheel\n",
      "  running build\n",
      "  running build_py\n",
      "  creating build\n",
      "  creating build\\lib.win-amd64-3.7\n",
      "  creating build\\lib.win-amd64-3.7\\bitarray\n",
      "  copying bitarray\\test_bitarray.py -> build\\lib.win-amd64-3.7\\bitarray\n",
      "  copying bitarray\\test_util.py -> build\\lib.win-amd64-3.7\\bitarray\n",
      "  copying bitarray\\util.py -> build\\lib.win-amd64-3.7\\bitarray\n",
      "  copying bitarray\\__init__.py -> build\\lib.win-amd64-3.7\\bitarray\n",
      "  running build_ext\n",
      "  building 'bitarray._bitarray' extension\n",
      "  error: Microsoft Visual C++ 14.0 is required. Get it with \"Build Tools for Visual Studio\": https://visualstudio.microsoft.com/downloads/\n",
      "  ----------------------------------------\n",
      "  ERROR: Failed building wheel for bitarray\n",
      "  ERROR: Command errored out with exit status 1:\n",
      "   command: 'C:\\Users\\fr33dz\\Documents\\WPy64-3771\\python-3.7.7.amd64\\python.exe' -u -c 'import io, os, sys, setuptools, tokenize; sys.argv[0] = '\"'\"'C:\\\\Users\\\\fr33dz\\\\AppData\\\\Local\\\\Temp\\\\pip-install-fbv6u1h9\\\\lru-dict_f509e54b92a243fe8c59c80e4a130e82\\\\setup.py'\"'\"'; __file__='\"'\"'C:\\\\Users\\\\fr33dz\\\\AppData\\\\Local\\\\Temp\\\\pip-install-fbv6u1h9\\\\lru-dict_f509e54b92a243fe8c59c80e4a130e82\\\\setup.py'\"'\"';f = getattr(tokenize, '\"'\"'open'\"'\"', open)(__file__) if os.path.exists(__file__) else io.StringIO('\"'\"'from setuptools import setup; setup()'\"'\"');code = f.read().replace('\"'\"'\\r\\n'\"'\"', '\"'\"'\\n'\"'\"');f.close();exec(compile(code, __file__, '\"'\"'exec'\"'\"'))' bdist_wheel -d 'C:\\Users\\fr33dz\\AppData\\Local\\Temp\\pip-wheel-u9k613zk'\n",
      "       cwd: C:\\Users\\fr33dz\\AppData\\Local\\Temp\\pip-install-fbv6u1h9\\lru-dict_f509e54b92a243fe8c59c80e4a130e82\\\n",
      "  Complete output (5 lines):\n",
      "  running bdist_wheel\n",
      "  running build\n",
      "  running build_ext\n",
      "  building 'lru' extension\n",
      "  error: Microsoft Visual C++ 14.0 is required. Get it with \"Build Tools for Visual Studio\": https://visualstudio.microsoft.com/downloads/\n",
      "  ----------------------------------------\n",
      "  ERROR: Failed building wheel for lru-dict\n",
      "    ERROR: Command errored out with exit status 1:\n",
      "     command: 'C:\\Users\\fr33dz\\Documents\\WPy64-3771\\python-3.7.7.amd64\\python.exe' -u -c 'import io, os, sys, setuptools, tokenize; sys.argv[0] = '\"'\"'C:\\\\Users\\\\fr33dz\\\\AppData\\\\Local\\\\Temp\\\\pip-install-fbv6u1h9\\\\bitarray_0e61c73de7b8438eaa64de347671718f\\\\setup.py'\"'\"'; __file__='\"'\"'C:\\\\Users\\\\fr33dz\\\\AppData\\\\Local\\\\Temp\\\\pip-install-fbv6u1h9\\\\bitarray_0e61c73de7b8438eaa64de347671718f\\\\setup.py'\"'\"';f = getattr(tokenize, '\"'\"'open'\"'\"', open)(__file__) if os.path.exists(__file__) else io.StringIO('\"'\"'from setuptools import setup; setup()'\"'\"');code = f.read().replace('\"'\"'\\r\\n'\"'\"', '\"'\"'\\n'\"'\"');f.close();exec(compile(code, __file__, '\"'\"'exec'\"'\"'))' install --record 'C:\\Users\\fr33dz\\AppData\\Local\\Temp\\pip-record-0txg_bdq\\install-record.txt' --single-version-externally-managed --compile --install-headers 'C:\\Users\\fr33dz\\Documents\\WPy64-3771\\python-3.7.7.amd64\\Include\\bitarray'\n",
      "         cwd: C:\\Users\\fr33dz\\AppData\\Local\\Temp\\pip-install-fbv6u1h9\\bitarray_0e61c73de7b8438eaa64de347671718f\\\n",
      "    Complete output (13 lines):\n",
      "    running install\n",
      "    running build\n",
      "    running build_py\n",
      "    creating build\n",
      "    creating build\\lib.win-amd64-3.7\n",
      "    creating build\\lib.win-amd64-3.7\\bitarray\n",
      "    copying bitarray\\test_bitarray.py -> build\\lib.win-amd64-3.7\\bitarray\n",
      "    copying bitarray\\test_util.py -> build\\lib.win-amd64-3.7\\bitarray\n",
      "    copying bitarray\\util.py -> build\\lib.win-amd64-3.7\\bitarray\n",
      "    copying bitarray\\__init__.py -> build\\lib.win-amd64-3.7\\bitarray\n",
      "    running build_ext\n",
      "    building 'bitarray._bitarray' extension\n",
      "    error: Microsoft Visual C++ 14.0 is required. Get it with \"Build Tools for Visual Studio\": https://visualstudio.microsoft.com/downloads/\n",
      "    ----------------------------------------\n",
      "ERROR: Command errored out with exit status 1: 'C:\\Users\\fr33dz\\Documents\\WPy64-3771\\python-3.7.7.amd64\\python.exe' -u -c 'import io, os, sys, setuptools, tokenize; sys.argv[0] = '\"'\"'C:\\\\Users\\\\fr33dz\\\\AppData\\\\Local\\\\Temp\\\\pip-install-fbv6u1h9\\\\bitarray_0e61c73de7b8438eaa64de347671718f\\\\setup.py'\"'\"'; __file__='\"'\"'C:\\\\Users\\\\fr33dz\\\\AppData\\\\Local\\\\Temp\\\\pip-install-fbv6u1h9\\\\bitarray_0e61c73de7b8438eaa64de347671718f\\\\setup.py'\"'\"';f = getattr(tokenize, '\"'\"'open'\"'\"', open)(__file__) if os.path.exists(__file__) else io.StringIO('\"'\"'from setuptools import setup; setup()'\"'\"');code = f.read().replace('\"'\"'\\r\\n'\"'\"', '\"'\"'\\n'\"'\"');f.close();exec(compile(code, __file__, '\"'\"'exec'\"'\"'))' install --record 'C:\\Users\\fr33dz\\AppData\\Local\\Temp\\pip-record-0txg_bdq\\install-record.txt' --single-version-externally-managed --compile --install-headers 'C:\\Users\\fr33dz\\Documents\\WPy64-3771\\python-3.7.7.amd64\\Include\\bitarray' Check the logs for full command output.\n"
     ]
    },
    {
     "name": "stdout",
     "output_type": "stream",
     "text": [
      "\n",
      "Requirement already satisfied: urllib3<1.27,>=1.21.1 in c:\\users\\fr33dz\\documents\\wpy64-3771\\python-3.7.7.amd64\\lib\\site-packages (from requests<3.0.0,>=2.16.0->web3) (1.25.9)\n",
      "Requirement already satisfied: zipp>=0.5 in c:\\users\\fr33dz\\documents\\wpy64-3771\\python-3.7.7.amd64\\lib\\site-packages (from importlib-metadata->jsonschema<4.0.0,>=3.2.0->web3) (3.1.0)\n",
      "Building wheels for collected packages: bitarray, lru-dict\n",
      "  Building wheel for bitarray (setup.py): started\n",
      "  Building wheel for bitarray (setup.py): finished with status 'error'\n",
      "  Running setup.py clean for bitarray\n",
      "  Building wheel for lru-dict (setup.py): started\n",
      "  Building wheel for lru-dict (setup.py): finished with status 'error'\n",
      "  Running setup.py clean for lru-dict\n",
      "Failed to build bitarray lru-dict\n",
      "Installing collected packages: bitarray, async-timeout, lru-dict, ipfshttpclient, eth-account, aiohttp, web3\n",
      "    Running setup.py install for bitarray: started\n",
      "    Running setup.py install for bitarray: finished with status 'error'\n"
     ]
    }
   ],
   "source": [
    "# installation web3\n",
    "# https://web3py.readthedocs.io/en/stable/quickstart.html\n",
    "\n",
    "!pip install web3"
   ]
  },
  {
   "cell_type": "code",
   "execution_count": 2,
   "metadata": {},
   "outputs": [
    {
     "ename": "ModuleNotFoundError",
     "evalue": "No module named 'web3'",
     "output_type": "error",
     "traceback": [
      "\u001b[1;31m---------------------------------------------------------------------------\u001b[0m",
      "\u001b[1;31mModuleNotFoundError\u001b[0m                       Traceback (most recent call last)",
      "\u001b[1;32m<ipython-input-2-2fb9c133a51d>\u001b[0m in \u001b[0;36m<module>\u001b[1;34m\u001b[0m\n\u001b[1;32m----> 1\u001b[1;33m \u001b[1;32mfrom\u001b[0m \u001b[0mweb3\u001b[0m \u001b[1;32mimport\u001b[0m \u001b[0mWeb3\u001b[0m\u001b[1;33m\u001b[0m\u001b[1;33m\u001b[0m\u001b[0m\n\u001b[0m\u001b[0;32m      2\u001b[0m \u001b[1;33m\u001b[0m\u001b[0m\n\u001b[0;32m      3\u001b[0m \"\"\"\n\u001b[0;32m      4\u001b[0m \u001b[0mAller\u001b[0m \u001b[0msur\u001b[0m \u001b[0mhttps\u001b[0m\u001b[1;33m:\u001b[0m\u001b[1;33m//\u001b[0m\u001b[0minfura\u001b[0m\u001b[1;33m.\u001b[0m\u001b[0mio\u001b[0m\u001b[1;33m/\u001b[0m\u001b[0mdashboard\u001b[0m\u001b[1;33m/\u001b[0m\u001b[0methereum\u001b[0m\u001b[1;33m/\u001b[0m\u001b[1;33m\u001b[0m\u001b[1;33m\u001b[0m\u001b[0m\n\u001b[0;32m      5\u001b[0m \u001b[1;33m\u001b[0m\u001b[0m\n",
      "\u001b[1;31mModuleNotFoundError\u001b[0m: No module named 'web3'"
     ]
    }
   ],
   "source": [
    "from web3 import Web3\n",
    "\n",
    "\"\"\"\n",
    "Aller sur https://infura.io/dashboard/ethereum/\n",
    "\n",
    "Creer un compte\n",
    "Creer un nouveau projet\n",
    "recuperer l'ID\n",
    "\"\"\"\n",
    "#w3 = Web3(Web3.HTTPProvider('https://mainnet.infura.io/v3/YOUR_PROJECT_ID'))\n",
    "w3 = Web3(Web3.HTTPProvider('https://mainnet.infura.io/v3/d7fd845abb2044ab81f510d8c4b06785'))\n"
   ]
  },
  {
   "cell_type": "code",
   "execution_count": null,
   "metadata": {},
   "outputs": [],
   "source": [
    "# recuperer les infos du dernier block\n",
    "w3.eth.getBlock('latest')\n",
    "\n",
    "# recuperer le solde en Ethereum\n",
    "w3.eth.getBalance('YOUR_ADDRESS_HERE')"
   ]
  },
  {
   "cell_type": "code",
   "execution_count": 3,
   "metadata": {},
   "outputs": [
    {
     "ename": "SyntaxError",
     "evalue": "invalid syntax (<ipython-input-3-1fd76a247268>, line 3)",
     "output_type": "error",
     "traceback": [
      "\u001b[1;36m  File \u001b[1;32m\"<ipython-input-3-1fd76a247268>\"\u001b[1;36m, line \u001b[1;32m3\u001b[0m\n\u001b[1;33m    https://towardsdatascience.com/access-ethereum-data-using-web3-py-infura-and-the-graph-d6fb981c2dc9\u001b[0m\n\u001b[1;37m           ^\u001b[0m\n\u001b[1;31mSyntaxError\u001b[0m\u001b[1;31m:\u001b[0m invalid syntax\n"
     ]
    }
   ],
   "source": [
    "# interagir avec un contrat\n",
    "\n",
    "https://towardsdatascience.com/access-ethereum-data-using-web3-py-infura-and-the-graph-d6fb981c2dc9"
   ]
  },
  {
   "cell_type": "code",
   "execution_count": null,
   "metadata": {},
   "outputs": [],
   "source": []
  }
 ],
 "metadata": {
  "kernelspec": {
   "display_name": "Python 3",
   "language": "python",
   "name": "python3"
  },
  "language_info": {
   "codemirror_mode": {
    "name": "ipython",
    "version": 3
   },
   "file_extension": ".py",
   "mimetype": "text/x-python",
   "name": "python",
   "nbconvert_exporter": "python",
   "pygments_lexer": "ipython3",
   "version": "3.7.7"
  }
 },
 "nbformat": 4,
 "nbformat_minor": 4
}
